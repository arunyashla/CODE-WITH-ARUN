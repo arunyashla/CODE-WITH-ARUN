{
 "cells": [
  {
   "cell_type": "markdown",
   "id": "f90aa05d",
   "metadata": {},
   "source": [
    "# Printing book in chapter wise by user input¶\n",
    "\n",
    " - Welcome to the New episode of CODE WITH ARUN\n",
    "\n",
    "- Do LIKE SHARE and SUBSCRIBE the channel\n",
    "\n",
    "- Dont Forget to press the BELL icon\n",
    "\n",
    "- We Need to create\n",
    "\n",
    "- Class\n",
    "- objects\n",
    "- user inputs\n",
    "- contants\n",
    "- quit"
   ]
  },
  {
   "cell_type": "code",
   "execution_count": 2,
   "id": "b08c3807",
   "metadata": {},
   "outputs": [
    {
     "name": "stdout",
     "output_type": "stream",
     "text": [
      "Search (s) quit (q)-->s\n",
      "Enter the author name: eg 'Arun': a\n",
      "Enter the chapter: eg: 1: 1\n",
      "Chapter-1, a, name of Author,1\n",
      "This is chapter 1\n",
      "Search (s) quit (q)-->s\n",
      "Enter the author name: eg 'Arun': a\n",
      "Enter the chapter: eg: 1: 2\n",
      "Chapter 2, a, Name of Author, 2\n",
      "This is chapter 2\n",
      "Search (s) quit (q)-->s\n",
      "Enter the author name: eg 'Arun': a\n",
      "Enter the chapter: eg: 1: 3\n",
      "Chapter 3, a, Name of Author, 3\n",
      "This is chapter 3\n",
      "Search (s) quit (q)-->s\n",
      "Enter the author name: eg 'Arun': a\n",
      "Enter the chapter: eg: 1: 4\n",
      "Chapter 4, a, Name of Author, 4\n",
      "This is chapter 4\n",
      "Search (s) quit (q)-->s\n",
      "Enter the author name: eg 'Arun': a\n",
      "Enter the chapter: eg: 1: 5\n",
      "Chapter 5, a, Name of Author, 5\n",
      "This is chapter 5\n",
      "Search (s) quit (q)-->s\n",
      "Enter the author name: eg 'Arun': a\n",
      "Enter the chapter: eg: 1: 6\n",
      "Search (s) quit (q)-->q\n",
      "Reading finished\n"
     ]
    }
   ],
   "source": [
    "\n",
    "class Book(object):\n",
    "    def __init__(self, Author, Chapter1):#,Chapter2, Chapter3\n",
    "        self.Author = Author\n",
    "        self.Chapter1 = Chapter1\n",
    "        #contants\n",
    "    def go_chapters(self):\n",
    "        if user == 1:\n",
    "            print(f\"Chapter-1, {self.Chapter1}, name of Author,{self.Author}\")\n",
    "            print (a)\n",
    "            return user\n",
    "        elif user == 2:\n",
    "            print (f'Chapter 2, {self.Chapter1}, Name of Author, {self.Author}')\n",
    "            print(b)\n",
    "            \n",
    "        elif user == 3:\n",
    "            print (f'Chapter 3, {self.Chapter1}, Name of Author, {self.Author}')\n",
    "            print(c)\n",
    "\n",
    "        elif user == 4:\n",
    "            print (f'Chapter 4, {self.Chapter1}, Name of Author, {self.Author}')\n",
    "            print(d)\n",
    "\n",
    "        elif user == 5:\n",
    "            print (f'Chapter 5, {self.Chapter1}, Name of Author, {self.Author}')\n",
    "            print(e)\n",
    "        else:\n",
    "            return user\n",
    "\n",
    "a = \"This is chapter 1\"\n",
    "b = \"This is chapter 2\"\n",
    "c = \"This is chapter 3\"\n",
    "d = \"This is chapter 4\"\n",
    "e = \"This is chapter 5\"\n",
    "\n",
    "# user inputs\n",
    "        \n",
    "while True:\n",
    "    q= input(\"Search (s) quit (q)-->\")\n",
    "    if q ==\"s\":\n",
    "        Auth = input(\"Enter the author name: eg 'Arun': \")\n",
    "        user = int(input(\"Enter the chapter: eg: 1: \"))\n",
    "        call = Book(user,Auth)\n",
    "        call.go_chapters()\n",
    "    elif q==\"q\": #quit\n",
    "        print(\"Reading finished\")\n",
    "        break\n"
   ]
  },
  {
   "cell_type": "code",
   "execution_count": null,
   "id": "e67f5274",
   "metadata": {},
   "outputs": [],
   "source": [
    "Thats it thank you \n",
    "\n",
    "Please do subscribe the channel "
   ]
  }
 ],
 "metadata": {
  "kernelspec": {
   "display_name": "Python 3 (ipykernel)",
   "language": "python",
   "name": "python3"
  },
  "language_info": {
   "codemirror_mode": {
    "name": "ipython",
    "version": 3
   },
   "file_extension": ".py",
   "mimetype": "text/x-python",
   "name": "python",
   "nbconvert_exporter": "python",
   "pygments_lexer": "ipython3",
   "version": "3.9.7"
  }
 },
 "nbformat": 4,
 "nbformat_minor": 5
}
